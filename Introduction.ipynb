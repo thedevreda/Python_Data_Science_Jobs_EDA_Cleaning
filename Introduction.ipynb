{
 "cells": [
  {
   "cell_type": "markdown",
   "metadata": {},
   "source": [
    "## Exploratory Data Analysis & Intro\n",
    "### Goal\n",
    "- Investigate top-paying roles and skills in the data science industry.\n",
    "- Use Python to explore a real-live dataset on job postings.\n",
    "- For job-seekers: use these insights to help find the best job opportunities.\n",
    "### Final Deliverables:\n",
    "- Create Jupyter Notebookss (showcasing core skills in Python).\n",
    "- Create a summary page (via README.md) capturing your findings.\n",
    "- Share this project via GitHub & LinkedIn.\n",
    "### Questions to Answer\n",
    "- What are the most demanded skills for the top 3 most popular data roles?\n",
    "- How are in-demand skills trending for Data Analysts?\n",
    "- How well do jobs and skills pay for Data Analysts?\n",
    "- What is the most optimal skill to learn for Data Analysts? (High Demand AND High Paying)\n",
    "\n",
    "\n",
    "##### I'll be focusing on US Data Analyst roles, but you can adapt to any of the following"
   ]
  }
 ],
 "metadata": {
  "language_info": {
   "name": "python"
  }
 },
 "nbformat": 4,
 "nbformat_minor": 2
}
